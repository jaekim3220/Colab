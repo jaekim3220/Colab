{
 "cells": [
  {
   "cell_type": "code",
   "execution_count": 4,
   "metadata": {},
   "outputs": [],
   "source": [
    "import os\n",
    "from pandas import DataFrame"
   ]
  },
  {
   "cell_type": "code",
   "execution_count": 5,
   "metadata": {},
   "outputs": [
    {
     "data": {
      "text/plain": [
       "'c:\\\\Users\\\\jehyu\\\\Desktop\\\\nationalSupport\\\\jupyter\\\\F. 데이터 마이닝\\\\Colab'"
      ]
     },
     "execution_count": 5,
     "metadata": {},
     "output_type": "execute_result"
    }
   ],
   "source": [
    "os.getcwd()"
   ]
  },
  {
   "cell_type": "code",
   "execution_count": 13,
   "metadata": {},
   "outputs": [
    {
     "data": {
      "text/plain": [
       "['IT,과학', '경제', '사회', '생활,문화', '세계', '정치']"
      ]
     },
     "execution_count": 13,
     "metadata": {},
     "output_type": "execute_result"
    }
   ],
   "source": [
    "categories = os.listdir('newsData')\n",
    "categories"
   ]
  },
  {
   "cell_type": "code",
   "execution_count": 17,
   "metadata": {},
   "outputs": [
    {
     "name": "stdout",
     "output_type": "stream",
     "text": [
      "IT,과학 폴더 내의 기사 개수: 792개\n",
      "경제 폴더 내의 기사 개수: 980개\n",
      "사회 폴더 내의 기사 개수: 980개\n",
      "생활,문화 폴더 내의 기사 개수: 370개\n",
      "세계 폴더 내의 기사 개수: 916개\n",
      "정치 폴더 내의 기사 개수: 990개\n",
      "<class 'pandas.core.frame.DataFrame'>\n",
      "RangeIndex: 62359 entries, 0 to 62358\n",
      "Data columns (total 2 columns):\n",
      " #   Column    Non-Null Count  Dtype \n",
      "---  ------    --------------  ----- \n",
      " 0   category  62359 non-null  object\n",
      " 1   content   62359 non-null  object\n",
      "dtypes: object(2)\n",
      "memory usage: 974.5+ KB\n"
     ]
    }
   ],
   "source": [
    "data = []\n",
    "\n",
    "for cate in categories:\n",
    "    # 카테고리 폴더 안에 있는 텍스트 파일 목록 가져오기\n",
    "    files = os.listdir('newsData/'+cate)\n",
    "    print(\"%s 폴더 내의 기사 개수: %d개\" % (cate, len(files)))\n",
    "    \n",
    "    # 파일별로 기사 내용 읽어서 하나의 파일로 만들기\n",
    "    for file in files:\n",
    "        f = open('newsData/'+cate+'/'+file, 'r', encoding='utf-8')\n",
    "        content = f.readlines()\n",
    "        f.close()\n",
    "        \n",
    "        #print(content)\n",
    "        for c in content:\n",
    "            tmp = c.strip().replace(u'\\xa0', u' ').replace(u'\\t', u' ')\n",
    "            \n",
    "            if len(tmp) < 1:\n",
    "                continue\n",
    "            \n",
    "            item = {'category': cate, 'content': tmp}\n",
    "            data.append(item)\n",
    "            \n",
    "        #print(data)\n",
    "        \n",
    "df = DataFrame(data)\n",
    "df.info()"
   ]
  },
  {
   "cell_type": "code",
   "execution_count": 18,
   "metadata": {},
   "outputs": [
    {
     "data": {
      "text/html": [
       "<div>\n",
       "<style scoped>\n",
       "    .dataframe tbody tr th:only-of-type {\n",
       "        vertical-align: middle;\n",
       "    }\n",
       "\n",
       "    .dataframe tbody tr th {\n",
       "        vertical-align: top;\n",
       "    }\n",
       "\n",
       "    .dataframe thead th {\n",
       "        text-align: right;\n",
       "    }\n",
       "</style>\n",
       "<table border=\"1\" class=\"dataframe\">\n",
       "  <thead>\n",
       "    <tr style=\"text-align: right;\">\n",
       "      <th></th>\n",
       "      <th>category</th>\n",
       "      <th>content</th>\n",
       "    </tr>\n",
       "  </thead>\n",
       "  <tbody>\n",
       "    <tr>\n",
       "      <th>0</th>\n",
       "      <td>IT,과학</td>\n",
       "      <td>SKT·SKB·넷플릭스, 망 사용료 소송 취하…분쟁 마침표</td>\n",
       "    </tr>\n",
       "    <tr>\n",
       "      <th>1</th>\n",
       "      <td>IT,과학</td>\n",
       "      <td>넷플릭스와 SK텔레콤·SK브로드밴드가 2020년 시작한 지난한 법정 다툼을 끝냈다....</td>\n",
       "    </tr>\n",
       "    <tr>\n",
       "      <th>2</th>\n",
       "      <td>IT,과학</td>\n",
       "      <td>앞서 SKB는 넷플릭스 트래픽이 매년 폭증하면서 전송 비용 부담이 막대하지만 넷플릭...</td>\n",
       "    </tr>\n",
       "    <tr>\n",
       "      <th>3</th>\n",
       "      <td>IT,과학</td>\n",
       "      <td>SKT·SKB와 넷플릭스가 화해 모드로 들어가면서 그간 인터넷TV(IPTV) 3사 ...</td>\n",
       "    </tr>\n",
       "    <tr>\n",
       "      <th>4</th>\n",
       "      <td>IT,과학</td>\n",
       "      <td>다만 양측은 망 사용료 지불 등 구체적인 계약 내용에 대해서는 함구했다. 최환석 S...</td>\n",
       "    </tr>\n",
       "  </tbody>\n",
       "</table>\n",
       "</div>"
      ],
      "text/plain": [
       "  category                                            content\n",
       "0    IT,과학                   SKT·SKB·넷플릭스, 망 사용료 소송 취하…분쟁 마침표\n",
       "1    IT,과학  넷플릭스와 SK텔레콤·SK브로드밴드가 2020년 시작한 지난한 법정 다툼을 끝냈다....\n",
       "2    IT,과학  앞서 SKB는 넷플릭스 트래픽이 매년 폭증하면서 전송 비용 부담이 막대하지만 넷플릭...\n",
       "3    IT,과학  SKT·SKB와 넷플릭스가 화해 모드로 들어가면서 그간 인터넷TV(IPTV) 3사 ...\n",
       "4    IT,과학  다만 양측은 망 사용료 지불 등 구체적인 계약 내용에 대해서는 함구했다. 최환석 S..."
      ]
     },
     "execution_count": 18,
     "metadata": {},
     "output_type": "execute_result"
    }
   ],
   "source": [
    "df.head()"
   ]
  },
  {
   "cell_type": "code",
   "execution_count": 19,
   "metadata": {},
   "outputs": [],
   "source": [
    "df.to_excel(\"news.xlsx\", index=False)"
   ]
  },
  {
   "cell_type": "code",
   "execution_count": null,
   "metadata": {},
   "outputs": [],
   "source": []
  }
 ],
 "metadata": {
  "kernelspec": {
   "display_name": "Python 3",
   "language": "python",
   "name": "python3"
  },
  "language_info": {
   "codemirror_mode": {
    "name": "ipython",
    "version": 3
   },
   "file_extension": ".py",
   "mimetype": "text/x-python",
   "name": "python",
   "nbconvert_exporter": "python",
   "pygments_lexer": "ipython3",
   "version": "3.9.13"
  },
  "orig_nbformat": 4
 },
 "nbformat": 4,
 "nbformat_minor": 2
}
